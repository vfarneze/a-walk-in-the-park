{
  "nbformat": 4,
  "nbformat_minor": 0,
  "metadata": {
    "colab": {
      "name": "PySpark_RDD.ipynb",
      "provenance": [],
      "collapsed_sections": []
    },
    "kernelspec": {
      "name": "python3",
      "display_name": "Python 3"
    }
  },
  "cells": [
    {
      "cell_type": "markdown",
      "metadata": {
        "id": "QZ5u_3-zlzjU",
        "colab_type": "text"
      },
      "source": [
        "## Install JDK\n",
        "## Install Spark\n",
        "## Set Environment variables\n",
        "## Create a Spark Session"
      ]
    },
    {
      "cell_type": "code",
      "metadata": {
        "id": "HP2q-spF9dGi",
        "colab_type": "code",
        "colab": {}
      },
      "source": [
        "!apt-get install openjdk-8-jdk-headless -qq > /dev/null\n",
        "!wget -q https://archive.apache.org/dist/spark/spark-2.4.3/spark-2.4.3-bin-hadoop2.6.tgz\n",
        "!tar -xvf spark-2.4.3-bin-hadoop2.6.tgz\n",
        "!pip install -q findspark\n",
        "import os\n",
        "os.environ[\"JAVA_HOME\"] = \"/usr/lib/jvm/java-8-openjdk-amd64\"\n",
        "os.environ[\"SPARK_HOME\"] = \"/content/spark-2.4.3-bin-hadoop2.6\"\n",
        "import findspark\n",
        "findspark.init()\n",
        "from pyspark.sql import SparkSession\n",
        "spark = SparkSession.builder.master(\"local[*]\").getOrCreate()"
      ],
      "execution_count": 0,
      "outputs": []
    },
    {
      "cell_type": "markdown",
      "metadata": {
        "id": "5DTILBUXmGnd",
        "colab_type": "text"
      },
      "source": [
        "## Test Spark"
      ]
    },
    {
      "cell_type": "code",
      "metadata": {
        "id": "2HwI_t-bl23c",
        "colab_type": "code",
        "outputId": "e2fa728b-dad5-496d-80db-d524486a033a",
        "colab": {
          "base_uri": "https://localhost:8080/",
          "height": 170
        }
      },
      "source": [
        "df = spark.createDataFrame([{\"Google\": \"Colab\",\"Spark\": \"Scala\"} ,{\"Google\": \"Dataproc\",\"Spark\":\"Python\"}])\n",
        "df.show()"
      ],
      "execution_count": 2,
      "outputs": [
        {
          "output_type": "stream",
          "text": [
            "/content/spark-2.4.3-bin-hadoop2.6/python/pyspark/sql/session.py:346: UserWarning: inferring schema from dict is deprecated,please use pyspark.sql.Row instead\n",
            "  warnings.warn(\"inferring schema from dict is deprecated,\"\n"
          ],
          "name": "stderr"
        },
        {
          "output_type": "stream",
          "text": [
            "+--------+------+\n",
            "|  Google| Spark|\n",
            "+--------+------+\n",
            "|   Colab| Scala|\n",
            "|Dataproc|Python|\n",
            "+--------+------+\n",
            "\n"
          ],
          "name": "stdout"
        }
      ]
    },
    {
      "cell_type": "markdown",
      "metadata": {
        "id": "qSv6b2NWkohX",
        "colab_type": "text"
      },
      "source": [
        "## Copy a data file to your local Colab environment"
      ]
    },
    {
      "cell_type": "code",
      "metadata": {
        "id": "7aQQFrZjkkks",
        "colab_type": "code",
        "outputId": "ca471b22-b480-4b41-f44f-4c3ed4a366eb",
        "colab": {
          "base_uri": "https://localhost:8080/",
          "height": 204
        }
      },
      "source": [
        "!wget https://raw.githubusercontent.com/futurexskill/bidata/master/retailstore.csv"
      ],
      "execution_count": 4,
      "outputs": [
        {
          "output_type": "stream",
          "text": [
            "--2020-06-07 00:41:37--  https://raw.githubusercontent.com/futurexskill/bidata/master/retailstore.csv\n",
            "Resolving raw.githubusercontent.com (raw.githubusercontent.com)... 151.101.0.133, 151.101.64.133, 151.101.128.133, ...\n",
            "Connecting to raw.githubusercontent.com (raw.githubusercontent.com)|151.101.0.133|:443... connected.\n",
            "HTTP request sent, awaiting response... 200 OK\n",
            "Length: 279 [text/plain]\n",
            "Saving to: ‘retailstore.csv’\n",
            "\n",
            "\rretailstore.csv       0%[                    ]       0  --.-KB/s               \rretailstore.csv     100%[===================>]     279  --.-KB/s    in 0s      \n",
            "\n",
            "2020-06-07 00:41:37 (15.1 MB/s) - ‘retailstore.csv’ saved [279/279]\n",
            "\n"
          ],
          "name": "stdout"
        }
      ]
    },
    {
      "cell_type": "markdown",
      "metadata": {
        "id": "JZJdUTuOkv11",
        "colab_type": "text"
      },
      "source": [
        "## Check if the file is copied"
      ]
    },
    {
      "cell_type": "code",
      "metadata": {
        "id": "JW0FddNtmEYU",
        "colab_type": "code",
        "outputId": "89e0f638-743a-4fa1-cd62-2188d885490a",
        "colab": {
          "base_uri": "https://localhost:8080/",
          "height": 51
        }
      },
      "source": [
        "!ls"
      ],
      "execution_count": 5,
      "outputs": [
        {
          "output_type": "stream",
          "text": [
            "retailstore.csv  spark-2.4.3-bin-hadoop2.6\n",
            "sample_data\t spark-2.4.3-bin-hadoop2.6.tgz\n"
          ],
          "name": "stdout"
        }
      ]
    },
    {
      "cell_type": "markdown",
      "metadata": {
        "id": "gARiNx3j_RxK",
        "colab_type": "text"
      },
      "source": [
        "# Resilient Distributed Dataset (RDD)"
      ]
    },
    {
      "cell_type": "markdown",
      "metadata": {
        "id": "wRkf0reuES6H",
        "colab_type": "text"
      },
      "source": [
        "## Import SparkContext and SparkConf"
      ]
    },
    {
      "cell_type": "code",
      "metadata": {
        "id": "cSlEG6RFEAuf",
        "colab_type": "code",
        "colab": {}
      },
      "source": [
        "from pyspark import SparkContext\n"
      ],
      "execution_count": 0,
      "outputs": []
    },
    {
      "cell_type": "markdown",
      "metadata": {
        "id": "IZ4rUv8GHuYX",
        "colab_type": "text"
      },
      "source": [
        "## Create Spark Context from Spark Session"
      ]
    },
    {
      "cell_type": "code",
      "metadata": {
        "id": "xoh8EV5UEoWH",
        "colab_type": "code",
        "colab": {}
      },
      "source": [
        "sc = spark.sparkContext"
      ],
      "execution_count": 0,
      "outputs": []
    },
    {
      "cell_type": "markdown",
      "metadata": {
        "id": "Qd1eDAARH7AY",
        "colab_type": "text"
      },
      "source": [
        "## Create a RDD from Python List"
      ]
    },
    {
      "cell_type": "code",
      "metadata": {
        "id": "8IkEdzDRH2bb",
        "colab_type": "code",
        "colab": {}
      },
      "source": [
        "sampleRDD = sc.parallelize([10,20,30,40,50,60])\n"
      ],
      "execution_count": 0,
      "outputs": []
    },
    {
      "cell_type": "code",
      "metadata": {
        "id": "Zrxx6ssFsoT6",
        "colab_type": "code",
        "outputId": "95bd802f-e02a-47a9-b733-cfc793167494",
        "colab": {
          "base_uri": "https://localhost:8080/",
          "height": 34
        }
      },
      "source": [
        "type(sampleRDD)"
      ],
      "execution_count": 9,
      "outputs": [
        {
          "output_type": "execute_result",
          "data": {
            "text/plain": [
              "pyspark.rdd.RDD"
            ]
          },
          "metadata": {
            "tags": []
          },
          "execution_count": 9
        }
      ]
    },
    {
      "cell_type": "code",
      "metadata": {
        "id": "uhi_KZvPIBPz",
        "colab_type": "code",
        "outputId": "67cc2c63-f283-45f1-e5b5-61015ed576ad",
        "colab": {
          "base_uri": "https://localhost:8080/",
          "height": 34
        }
      },
      "source": [
        "# Remember! the collect method prints all data! If you use this to check data from a huge dataset it can take way longer than a simple list\n",
        "sampleRDD.collect()"
      ],
      "execution_count": 10,
      "outputs": [
        {
          "output_type": "execute_result",
          "data": {
            "text/plain": [
              "[10, 20, 30, 40, 50, 60]"
            ]
          },
          "metadata": {
            "tags": []
          },
          "execution_count": 10
        }
      ]
    },
    {
      "cell_type": "markdown",
      "metadata": {
        "id": "ChK5OKRmINsk",
        "colab_type": "text"
      },
      "source": [
        "## Read the CSV file into a RDD"
      ]
    },
    {
      "cell_type": "code",
      "metadata": {
        "id": "t7MuXKs7IRhR",
        "colab_type": "code",
        "colab": {}
      },
      "source": [
        "customerData = sc.textFile(\"retailstore.csv\")\n"
      ],
      "execution_count": 0,
      "outputs": []
    },
    {
      "cell_type": "code",
      "metadata": {
        "id": "hJdPofv_IcEI",
        "colab_type": "code",
        "outputId": "5ce67e22-4db6-4fb5-a11b-f369e961749a",
        "colab": {
          "base_uri": "https://localhost:8080/",
          "height": 34
        }
      },
      "source": [
        "type(customerData)"
      ],
      "execution_count": 12,
      "outputs": [
        {
          "output_type": "execute_result",
          "data": {
            "text/plain": [
              "pyspark.rdd.RDD"
            ]
          },
          "metadata": {
            "tags": []
          },
          "execution_count": 12
        }
      ]
    },
    {
      "cell_type": "markdown",
      "metadata": {
        "id": "g4-jBdjyIoBr",
        "colab_type": "text"
      },
      "source": [
        "## Perform RDD Operations"
      ]
    },
    {
      "cell_type": "markdown",
      "metadata": {
        "id": "DCz9dI4JI3Eb",
        "colab_type": "text"
      },
      "source": [
        "Print all records"
      ]
    },
    {
      "cell_type": "code",
      "metadata": {
        "id": "_-7R93eXIf5I",
        "colab_type": "code",
        "outputId": "a90392c9-7310-4883-f0c7-4688933079d9",
        "colab": {
          "base_uri": "https://localhost:8080/",
          "height": 204
        }
      },
      "source": [
        "customerData.collect()"
      ],
      "execution_count": 13,
      "outputs": [
        {
          "output_type": "execute_result",
          "data": {
            "text/plain": [
              "['Age,Salary,Gender,Country,Purchased',\n",
              " '18,20000,Male,Germany,N',\n",
              " '19,22000,Female,France,N',\n",
              " '20,24000,Female,England,N',\n",
              " '21,,Male,England,N',\n",
              " '22,50000,Male,France,Y',\n",
              " '23,35000,Female,England,N',\n",
              " '24,,Male,Germany,N',\n",
              " '25,32000,Female,France,Y',\n",
              " ',35000,Male,Germany,N',\n",
              " '27,37000,Female,France,N']"
            ]
          },
          "metadata": {
            "tags": []
          },
          "execution_count": 13
        }
      ]
    },
    {
      "cell_type": "markdown",
      "metadata": {
        "id": "_uUTS36BI5sn",
        "colab_type": "text"
      },
      "source": [
        "Print count"
      ]
    },
    {
      "cell_type": "code",
      "metadata": {
        "id": "LUc2KiTIIst3",
        "colab_type": "code",
        "outputId": "c103da1a-38d0-4b3d-ecc8-9a005c770565",
        "colab": {
          "base_uri": "https://localhost:8080/",
          "height": 34
        }
      },
      "source": [
        "customerData.count()\n"
      ],
      "execution_count": 14,
      "outputs": [
        {
          "output_type": "execute_result",
          "data": {
            "text/plain": [
              "11"
            ]
          },
          "metadata": {
            "tags": []
          },
          "execution_count": 14
        }
      ]
    },
    {
      "cell_type": "markdown",
      "metadata": {
        "id": "aqQXw6_0I70u",
        "colab_type": "text"
      },
      "source": [
        "Print the fist row"
      ]
    },
    {
      "cell_type": "code",
      "metadata": {
        "id": "lneoMvXOIvu2",
        "colab_type": "code",
        "outputId": "4d25429d-8d5e-4edb-a665-69a53a2071a0",
        "colab": {
          "base_uri": "https://localhost:8080/",
          "height": 34
        }
      },
      "source": [
        "customerData.first()\n"
      ],
      "execution_count": 15,
      "outputs": [
        {
          "output_type": "execute_result",
          "data": {
            "text/plain": [
              "'Age,Salary,Gender,Country,Purchased'"
            ]
          },
          "metadata": {
            "tags": []
          },
          "execution_count": 15
        }
      ]
    },
    {
      "cell_type": "markdown",
      "metadata": {
        "id": "SJAJ7xksI-AT",
        "colab_type": "text"
      },
      "source": [
        "Fetch the first 3 rows"
      ]
    },
    {
      "cell_type": "code",
      "metadata": {
        "id": "R2yRimYFIxSl",
        "colab_type": "code",
        "outputId": "71f3e27b-8baa-4e54-cca9-4890a244a341",
        "colab": {
          "base_uri": "https://localhost:8080/",
          "height": 68
        }
      },
      "source": [
        "customerData.take(3)\n"
      ],
      "execution_count": 17,
      "outputs": [
        {
          "output_type": "execute_result",
          "data": {
            "text/plain": [
              "['Age,Salary,Gender,Country,Purchased',\n",
              " '18,20000,Male,Germany,N',\n",
              " '19,22000,Female,France,N']"
            ]
          },
          "metadata": {
            "tags": []
          },
          "execution_count": 17
        }
      ]
    },
    {
      "cell_type": "markdown",
      "metadata": {
        "id": "DABYu7cEKJBB",
        "colab_type": "text"
      },
      "source": [
        "Print each row"
      ]
    },
    {
      "cell_type": "code",
      "metadata": {
        "id": "h2QJtAOZJN4Z",
        "colab_type": "code",
        "outputId": "954fd764-9785-4a24-8704-96feac0da14e",
        "colab": {
          "base_uri": "https://localhost:8080/",
          "height": 221
        }
      },
      "source": [
        "for line in customerData.collect():\n",
        "    print(line)\n"
      ],
      "execution_count": 35,
      "outputs": [
        {
          "output_type": "stream",
          "text": [
            "Age,Salary,Gender,Country,Purchased\n",
            "18,20000,Male,Germany,N\n",
            "19,22000,Female,France,N\n",
            "20,24000,Female,England,N\n",
            "21,,Male,England,N\n",
            "22,50000,Male,France,Y\n",
            "23,35000,Female,England,N\n",
            "24,,Male,Germany,N\n",
            "25,32000,Female,France,Y\n",
            ",35000,Male,Germany,N\n",
            "27,37000,Female,France,N\n"
          ],
          "name": "stdout"
        },
        {
          "output_type": "execute_result",
          "data": {
            "text/plain": [
              "[None, None, None, None, None, None, None, None, None, None, None]"
            ]
          },
          "metadata": {
            "tags": []
          },
          "execution_count": 35
        }
      ]
    },
    {
      "cell_type": "markdown",
      "metadata": {
        "id": "CUA6QdS_Culo",
        "colab_type": "text"
      },
      "source": [
        "### Map"
      ]
    },
    {
      "cell_type": "markdown",
      "metadata": {
        "id": "T81VCk85KMnD",
        "colab_type": "text"
      },
      "source": [
        "Replace \"Male\" with \"M\""
      ]
    },
    {
      "cell_type": "code",
      "metadata": {
        "id": "qZD_qXmoJ5wv",
        "colab_type": "code",
        "colab": {}
      },
      "source": [
        "customerData2 = customerData.map(lambda x : x.replace(\"Male\",\"M\"))"
      ],
      "execution_count": 0,
      "outputs": []
    },
    {
      "cell_type": "markdown",
      "metadata": {
        "id": "c1-a_tOeDDbi",
        "colab_type": "text"
      },
      "source": [
        ""
      ]
    },
    {
      "cell_type": "code",
      "metadata": {
        "id": "S5pR023-KDfL",
        "colab_type": "code",
        "outputId": "f7d37975-3c90-415b-e852-212c5139f754",
        "colab": {
          "base_uri": "https://localhost:8080/",
          "height": 204
        }
      },
      "source": [
        "customerData2.collect()"
      ],
      "execution_count": 40,
      "outputs": [
        {
          "output_type": "execute_result",
          "data": {
            "text/plain": [
              "['Age,Salary,Gender,Country,Purchased',\n",
              " '18,20000,M,Germany,N',\n",
              " '19,22000,Female,France,N',\n",
              " '20,24000,Female,England,N',\n",
              " '21,,M,England,N',\n",
              " '22,50000,M,France,Y',\n",
              " '23,35000,Female,England,N',\n",
              " '24,,M,Germany,N',\n",
              " '25,32000,Female,France,Y',\n",
              " ',35000,M,Germany,N',\n",
              " '27,37000,Female,France,N']"
            ]
          },
          "metadata": {
            "tags": []
          },
          "execution_count": 40
        }
      ]
    },
    {
      "cell_type": "markdown",
      "metadata": {
        "id": "WCXMrYX-C0l5",
        "colab_type": "text"
      },
      "source": [
        "### Filter"
      ]
    },
    {
      "cell_type": "markdown",
      "metadata": {
        "id": "nN2qHRBmAhsQ",
        "colab_type": "text"
      },
      "source": [
        "Display only females"
      ]
    },
    {
      "cell_type": "code",
      "metadata": {
        "id": "SzCcREJIAYky",
        "colab_type": "code",
        "colab": {}
      },
      "source": [
        "femaleCustomers=customerData.filter(lambda x: \"Female\" in x)\n"
      ],
      "execution_count": 0,
      "outputs": []
    },
    {
      "cell_type": "code",
      "metadata": {
        "id": "zSa29T5pApF0",
        "colab_type": "code",
        "outputId": "26fe27a1-59ae-4672-9df4-6d9e4be0157f",
        "colab": {
          "base_uri": "https://localhost:8080/",
          "height": 102
        }
      },
      "source": [
        "femaleCustomers.collect()"
      ],
      "execution_count": 22,
      "outputs": [
        {
          "output_type": "execute_result",
          "data": {
            "text/plain": [
              "['19,22000,Female,France,N',\n",
              " '20,24000,Female,England,N',\n",
              " '23,35000,Female,England,N',\n",
              " '25,32000,Female,France,Y',\n",
              " '27,37000,Female,France,N']"
            ]
          },
          "metadata": {
            "tags": []
          },
          "execution_count": 22
        }
      ]
    },
    {
      "cell_type": "code",
      "metadata": {
        "id": "PNo-gvgxBYZz",
        "colab_type": "code",
        "outputId": "6a3bffba-1770-401c-dac9-0cf5deff49d2",
        "colab": {
          "base_uri": "https://localhost:8080/",
          "height": 34
        }
      },
      "source": [
        "femaleCustomers.count()"
      ],
      "execution_count": 0,
      "outputs": [
        {
          "output_type": "execute_result",
          "data": {
            "text/plain": [
              "5"
            ]
          },
          "metadata": {
            "tags": []
          },
          "execution_count": 20
        }
      ]
    },
    {
      "cell_type": "markdown",
      "metadata": {
        "id": "xF_UZ7zvC46t",
        "colab_type": "text"
      },
      "source": [
        "### flatMap"
      ]
    },
    {
      "cell_type": "markdown",
      "metadata": {
        "id": "5I7FYp25BfU9",
        "colab_type": "text"
      },
      "source": [
        "Create a new RDD by splitting each row with comma delimeter"
      ]
    },
    {
      "cell_type": "code",
      "metadata": {
        "id": "FtlMc80FBWYY",
        "colab_type": "code",
        "colab": {}
      },
      "source": [
        "words=femaleCustomers.flatMap(lambda line: line.split(\",\"))"
      ],
      "execution_count": 0,
      "outputs": []
    },
    {
      "cell_type": "code",
      "metadata": {
        "id": "MUfzJag7Bq0K",
        "colab_type": "code",
        "outputId": "6375459e-7ff0-4459-90f6-cf7f7ea6cdbe",
        "colab": {
          "base_uri": "https://localhost:8080/",
          "height": 34
        }
      },
      "source": [
        "words.count()"
      ],
      "execution_count": 24,
      "outputs": [
        {
          "output_type": "execute_result",
          "data": {
            "text/plain": [
              "25"
            ]
          },
          "metadata": {
            "tags": []
          },
          "execution_count": 24
        }
      ]
    },
    {
      "cell_type": "code",
      "metadata": {
        "id": "aTcfman5BnRM",
        "colab_type": "code",
        "outputId": "dcdf3334-c2b4-40cf-8625-11a4aae2402d",
        "colab": {
          "base_uri": "https://localhost:8080/",
          "height": 442
        }
      },
      "source": [
        "words.collect()"
      ],
      "execution_count": 25,
      "outputs": [
        {
          "output_type": "execute_result",
          "data": {
            "text/plain": [
              "['19',\n",
              " '22000',\n",
              " 'Female',\n",
              " 'France',\n",
              " 'N',\n",
              " '20',\n",
              " '24000',\n",
              " 'Female',\n",
              " 'England',\n",
              " 'N',\n",
              " '23',\n",
              " '35000',\n",
              " 'Female',\n",
              " 'England',\n",
              " 'N',\n",
              " '25',\n",
              " '32000',\n",
              " 'Female',\n",
              " 'France',\n",
              " 'Y',\n",
              " '27',\n",
              " '37000',\n",
              " 'Female',\n",
              " 'France',\n",
              " 'N']"
            ]
          },
          "metadata": {
            "tags": []
          },
          "execution_count": 25
        }
      ]
    },
    {
      "cell_type": "markdown",
      "metadata": {
        "id": "Bux-9ZOUDCqs",
        "colab_type": "text"
      },
      "source": [
        "### Set - Union & Intersection"
      ]
    },
    {
      "cell_type": "code",
      "metadata": {
        "id": "pOyT73a7DHYk",
        "colab_type": "code",
        "colab": {}
      },
      "source": [
        "rdd1 = sc.parallelize([\"a\",\"b\",\"c\",\"d\",\"e\"])\n",
        "rdd2 = sc.parallelize([\"c\",\"e\",\"k\",\"l\"])\n"
      ],
      "execution_count": 0,
      "outputs": []
    },
    {
      "cell_type": "markdown",
      "metadata": {
        "id": "t5ry0MdQDiEN",
        "colab_type": "text"
      },
      "source": [
        "Perform Union operation"
      ]
    },
    {
      "cell_type": "code",
      "metadata": {
        "id": "NvL7Kp-GDY0L",
        "colab_type": "code",
        "outputId": "efa069eb-21a1-4baa-bfe2-13a000a97653",
        "colab": {
          "base_uri": "https://localhost:8080/",
          "height": 136
        }
      },
      "source": [
        "for unions in rdd1.union(rdd2).distinct().collect():\n",
        "    print(unions)"
      ],
      "execution_count": 27,
      "outputs": [
        {
          "output_type": "stream",
          "text": [
            "b\n",
            "c\n",
            "l\n",
            "a\n",
            "e\n",
            "d\n",
            "k\n"
          ],
          "name": "stdout"
        }
      ]
    },
    {
      "cell_type": "markdown",
      "metadata": {
        "id": "G2Thmq8sDlLY",
        "colab_type": "text"
      },
      "source": [
        "Perform Intersection operation"
      ]
    },
    {
      "cell_type": "code",
      "metadata": {
        "id": "enbKUL0yDoJW",
        "colab_type": "code",
        "outputId": "e3163a95-9627-47d2-967c-f5024228ffb1",
        "colab": {
          "base_uri": "https://localhost:8080/",
          "height": 51
        }
      },
      "source": [
        "for intersects in rdd1.intersection(rdd2).collect():\n",
        "    print(intersects)"
      ],
      "execution_count": 28,
      "outputs": [
        {
          "output_type": "stream",
          "text": [
            "c\n",
            "e\n"
          ],
          "name": "stdout"
        }
      ]
    },
    {
      "cell_type": "markdown",
      "metadata": {
        "id": "NhCbz1SYE_Yo",
        "colab_type": "text"
      },
      "source": [
        "### Transformation using function"
      ]
    },
    {
      "cell_type": "code",
      "metadata": {
        "id": "uzdzDOZbFE9j",
        "colab_type": "code",
        "outputId": "0081b8c8-be87-4b96-e98d-f7f3bb363d8b",
        "colab": {
          "base_uri": "https://localhost:8080/",
          "height": 204
        }
      },
      "source": [
        "customerData.collect()"
      ],
      "execution_count": 29,
      "outputs": [
        {
          "output_type": "execute_result",
          "data": {
            "text/plain": [
              "['Age,Salary,Gender,Country,Purchased',\n",
              " '18,20000,Male,Germany,N',\n",
              " '19,22000,Female,France,N',\n",
              " '20,24000,Female,England,N',\n",
              " '21,,Male,England,N',\n",
              " '22,50000,Male,France,Y',\n",
              " '23,35000,Female,England,N',\n",
              " '24,,Male,Germany,N',\n",
              " '25,32000,Female,France,Y',\n",
              " ',35000,Male,Germany,N',\n",
              " '27,37000,Female,France,N']"
            ]
          },
          "metadata": {
            "tags": []
          },
          "execution_count": 29
        }
      ]
    },
    {
      "cell_type": "markdown",
      "metadata": {
        "id": "GLM_mtALGNd2",
        "colab_type": "text"
      },
      "source": [
        "Define the transformation method"
      ]
    },
    {
      "cell_type": "code",
      "metadata": {
        "id": "6FQtiykfFP7Z",
        "colab_type": "code",
        "colab": {}
      },
      "source": [
        "def transformRDD(customer) :\n",
        "    words =customer.split(\",\")\n",
        "    #convert male to 0 and female to 1\n",
        "    if words[2] == \"Male\" :\n",
        "         words[2]=\"0\"\n",
        "    else :\n",
        "         words[2]=\"1\"\n",
        "    #Convert N to 0 and Y to 1 for the purchased value\n",
        "    if words[4] == \"N\" :\n",
        "         words[4]=\"0\"\n",
        "    else :\n",
        "         words[4]=\"1\"\n",
        "    #Convert Country to upper case        \n",
        "    words[3] = words[3].upper()\n",
        "    return \",\".join(words)\n"
      ],
      "execution_count": 0,
      "outputs": []
    },
    {
      "cell_type": "markdown",
      "metadata": {
        "id": "Be7yheMiGwE_",
        "colab_type": "text"
      },
      "source": [
        "Apply transformation using map"
      ]
    },
    {
      "cell_type": "code",
      "metadata": {
        "id": "96SBkdZ8GRw9",
        "colab_type": "code",
        "colab": {}
      },
      "source": [
        "transformedCustData=customerData.map(transformRDD)\n"
      ],
      "execution_count": 0,
      "outputs": []
    },
    {
      "cell_type": "code",
      "metadata": {
        "id": "rmttdq_sG1Ru",
        "colab_type": "code",
        "outputId": "a6338e3d-4fbb-4533-c2cb-35dd006bd414",
        "colab": {
          "base_uri": "https://localhost:8080/",
          "height": 204
        }
      },
      "source": [
        "transformedCustData.collect()"
      ],
      "execution_count": 32,
      "outputs": [
        {
          "output_type": "execute_result",
          "data": {
            "text/plain": [
              "['Age,Salary,1,COUNTRY,1',\n",
              " '18,20000,0,GERMANY,0',\n",
              " '19,22000,1,FRANCE,0',\n",
              " '20,24000,1,ENGLAND,0',\n",
              " '21,,0,ENGLAND,0',\n",
              " '22,50000,0,FRANCE,1',\n",
              " '23,35000,1,ENGLAND,0',\n",
              " '24,,0,GERMANY,0',\n",
              " '25,32000,1,FRANCE,1',\n",
              " ',35000,0,GERMANY,0',\n",
              " '27,37000,1,FRANCE,0']"
            ]
          },
          "metadata": {
            "tags": []
          },
          "execution_count": 32
        }
      ]
    },
    {
      "cell_type": "markdown",
      "metadata": {
        "id": "usTwYwTs_wcX",
        "colab_type": "text"
      },
      "source": [
        "## reduce"
      ]
    },
    {
      "cell_type": "code",
      "metadata": {
        "id": "9IFAsRR9_xPX",
        "colab_type": "code",
        "colab": {}
      },
      "source": [
        "sampleRDD = sc.parallelize([10, 20, 30,40]) "
      ],
      "execution_count": 0,
      "outputs": []
    },
    {
      "cell_type": "code",
      "metadata": {
        "id": "e_jhcAw-_3d_",
        "colab_type": "code",
        "outputId": "772c06d2-eee2-415e-956f-8b194eee45a1",
        "colab": {
          "base_uri": "https://localhost:8080/",
          "height": 34
        }
      },
      "source": [
        "sampleRDD.reduce(lambda a, b: a + b)\n"
      ],
      "execution_count": 34,
      "outputs": [
        {
          "output_type": "execute_result",
          "data": {
            "text/plain": [
              "100"
            ]
          },
          "metadata": {
            "tags": []
          },
          "execution_count": 34
        }
      ]
    },
    {
      "cell_type": "code",
      "metadata": {
        "id": "8uVO7Lr3_67B",
        "colab_type": "code",
        "colab": {}
      },
      "source": [
        ""
      ],
      "execution_count": 0,
      "outputs": []
    }
  ]
}