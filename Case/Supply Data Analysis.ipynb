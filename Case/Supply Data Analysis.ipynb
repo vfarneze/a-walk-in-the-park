{
 "cells": [
  {
   "cell_type": "code",
   "execution_count": 1,
   "metadata": {},
   "outputs": [],
   "source": [
    "import pandas as pd"
   ]
  },
  {
   "cell_type": "markdown",
   "metadata": {
    "heading_collapsed": true
   },
   "source": [
    "# Part 1: Supply Data Analysis"
   ]
  },
  {
   "cell_type": "markdown",
   "metadata": {
    "hidden": true
   },
   "source": [
    "Important part of our business is a supply/demand balance. We can’t control demand but we can shift some supply to necessary hours to cover more demand during peaks.\n",
    "\n",
    "As part of the task you will have sample supply and demand data over a few weeks in a single city a few weeks after launch.\n",
    "\n",
    "**We need to understand:**\n",
    "- What is the supply to demand dynamic and whether they match?\n",
    "- Where are the hours of oversupply? Can we shift some of them to undersupply hours?\n",
    "\n",
    "**Needed output:**\n",
    "- Show which 36 hours in a week are most undersupplied. Show/describe your decision based on sample data.\n",
    "- 24-hour curve of average supply and demand (to illustrate match/mismatch).\n",
    "- Visualisation of hours where we lack supply during a weekly period. This one we can send to drivers to show when to online for extra hours.\n",
    "- Estimate number of hours needed to ensure we have a high Coverage Ratio during most peak hours.\n",
    "- Calculate levels of guaranteed hourly earnings we can offer to drivers during 36 weekly hours with highest demand without losing money + how much extra hours we want to get to capture missed demand.\n",
    "  - Assume that Finished Rides have an average value of €10 (80% goes to driver, 20% is our revenue).\n",
    "  - Assume the same level of demand with increased supply, base it on RPH over 3 hour periods, but with increased supply.\n",
    "  - Assume that with extra hours we will capture “missed coverage” or people attributed to “People saw 0 cars” in demand data."
   ]
  },
  {
   "cell_type": "markdown",
   "metadata": {
    "heading_collapsed": true
   },
   "source": [
    "# The data"
   ]
  },
  {
   "cell_type": "markdown",
   "metadata": {
    "hidden": true
   },
   "source": [
    "**Hourly_DriverActivity_1.csv**"
   ]
  },
  {
   "cell_type": "code",
   "execution_count": null,
   "metadata": {
    "hidden": true
   },
   "outputs": [],
   "source": [
    "data1 = pd.read_csv('Hourly_DriverActivity_1.csv')"
   ]
  },
  {
   "cell_type": "markdown",
   "metadata": {
    "hidden": true
   },
   "source": [
    "Details:  \n",
    "  - Hourly data for 5 full weeks from 2016-11-14 until 2016-12-18  \n",
    "  - Real data from a recent launch in a competitive city (2 big apps for years)  \n",
    "Fields:  \n",
    "- Date – date + hour for which the row of data is presented\n",
    "- Active drivers – number of active drivers (any level of activity) available during time period\n",
    " - Online (h) – total supply hours that were available during time period\n",
    " - Has booking (h) – total hours during which drivers had a client booking (any state)\n",
    " - Waiting for booking (h) – total hours which drivers spent waiting for booking\n",
    " - Busy (h) – total hours which drivers were not available to take orders in\n",
    " - Hours per active driver – average number of hours each driver was online during time period\n",
    " - Rides per online hour – aka RPH – avg. finished trips per online hour during period\n",
    " - Finished Rides – number of finished trips during period\n",
    " - Note the data is sorted with more recent data first\n",
    " - Note that is time period has 0 values in all columns, it would be skipped (no row)\n"
   ]
  },
  {
   "cell_type": "code",
   "execution_count": 22,
   "metadata": {
    "hidden": true
   },
   "outputs": [
    {
     "data": {
      "text/html": [
       "<div>\n",
       "<style scoped>\n",
       "    .dataframe tbody tr th:only-of-type {\n",
       "        vertical-align: middle;\n",
       "    }\n",
       "\n",
       "    .dataframe tbody tr th {\n",
       "        vertical-align: top;\n",
       "    }\n",
       "\n",
       "    .dataframe thead th {\n",
       "        text-align: right;\n",
       "    }\n",
       "</style>\n",
       "<table border=\"1\" class=\"dataframe\">\n",
       "  <thead>\n",
       "    <tr style=\"text-align: right;\">\n",
       "      <th></th>\n",
       "      <th>Date</th>\n",
       "      <th>Active drivers</th>\n",
       "      <th>Online (h)</th>\n",
       "      <th>Has booking (h)</th>\n",
       "      <th>Waiting for booking (h)</th>\n",
       "      <th>Busy (h)</th>\n",
       "      <th>Hours per active driver</th>\n",
       "      <th>Rides per online hour</th>\n",
       "      <th>Finished Rides</th>\n",
       "    </tr>\n",
       "  </thead>\n",
       "  <tbody>\n",
       "    <tr>\n",
       "      <th>0</th>\n",
       "      <td>2016-12-18 23</td>\n",
       "      <td>52</td>\n",
       "      <td>18</td>\n",
       "      <td>6</td>\n",
       "      <td>11</td>\n",
       "      <td>11</td>\n",
       "      <td>0.3</td>\n",
       "      <td>0.67</td>\n",
       "      <td>12.0</td>\n",
       "    </tr>\n",
       "    <tr>\n",
       "      <th>1</th>\n",
       "      <td>2016-12-18 22</td>\n",
       "      <td>59</td>\n",
       "      <td>20</td>\n",
       "      <td>11</td>\n",
       "      <td>9</td>\n",
       "      <td>12</td>\n",
       "      <td>0.3</td>\n",
       "      <td>1.40</td>\n",
       "      <td>28.0</td>\n",
       "    </tr>\n",
       "    <tr>\n",
       "      <th>2</th>\n",
       "      <td>2016-12-18 21</td>\n",
       "      <td>72</td>\n",
       "      <td>25</td>\n",
       "      <td>7</td>\n",
       "      <td>18</td>\n",
       "      <td>15</td>\n",
       "      <td>0.3</td>\n",
       "      <td>0.64</td>\n",
       "      <td>16.0</td>\n",
       "    </tr>\n",
       "    <tr>\n",
       "      <th>3</th>\n",
       "      <td>2016-12-18 20</td>\n",
       "      <td>86</td>\n",
       "      <td>29</td>\n",
       "      <td>7</td>\n",
       "      <td>23</td>\n",
       "      <td>15</td>\n",
       "      <td>0.3</td>\n",
       "      <td>0.52</td>\n",
       "      <td>15.0</td>\n",
       "    </tr>\n",
       "    <tr>\n",
       "      <th>4</th>\n",
       "      <td>2016-12-18 19</td>\n",
       "      <td>82</td>\n",
       "      <td>31</td>\n",
       "      <td>14</td>\n",
       "      <td>17</td>\n",
       "      <td>19</td>\n",
       "      <td>0.4</td>\n",
       "      <td>1.16</td>\n",
       "      <td>36.0</td>\n",
       "    </tr>\n",
       "  </tbody>\n",
       "</table>\n",
       "</div>"
      ],
      "text/plain": [
       "            Date  Active drivers  Online (h)  Has booking (h)  \\\n",
       "0  2016-12-18 23              52          18                6   \n",
       "1  2016-12-18 22              59          20               11   \n",
       "2  2016-12-18 21              72          25                7   \n",
       "3  2016-12-18 20              86          29                7   \n",
       "4  2016-12-18 19              82          31               14   \n",
       "\n",
       "   Waiting for booking (h)  Busy (h)  Hours per active driver  \\\n",
       "0                       11        11                      0.3   \n",
       "1                        9        12                      0.3   \n",
       "2                       18        15                      0.3   \n",
       "3                       23        15                      0.3   \n",
       "4                       17        19                      0.4   \n",
       "\n",
       "   Rides per online hour  Finished Rides  \n",
       "0                   0.67            12.0  \n",
       "1                   1.40            28.0  \n",
       "2                   0.64            16.0  \n",
       "3                   0.52            15.0  \n",
       "4                   1.16            36.0  "
      ]
     },
     "execution_count": 22,
     "metadata": {},
     "output_type": "execute_result"
    }
   ],
   "source": [
    "data1.head()"
   ]
  },
  {
   "cell_type": "markdown",
   "metadata": {
    "hidden": true
   },
   "source": [
    "**Hourly_OverviewSearch_1.csv**"
   ]
  },
  {
   "cell_type": "code",
   "execution_count": 10,
   "metadata": {
    "hidden": true
   },
   "outputs": [],
   "source": [
    "data2 = pd.read_csv('Hourly_OverviewSearch_1.csv')"
   ]
  },
  {
   "cell_type": "markdown",
   "metadata": {
    "hidden": true
   },
   "source": [
    "Shows how many people saw a car in the app when setting the pickup marker on the map. If you saw a car at one point and did not see a car later, you are counted in both columns in that period.\n",
    "\n",
    "Details:\n",
    "- The data is from the same period as Supply data above.\n",
    "- Fields:\n",
    "  - Date – date + hour for which the row of data is presented\n",
    "  - People saw 0 cars (unique) – number of users who didn’t not see a car.\n",
    "  - People saw +1 cars (unique) – number of users who saw a car.\n",
    "  - Coverage Ratio (unique) – % of users who saw the car.\n",
    "- Note the data is sorted with more recent data first\n",
    "- Note that is time period has 0 values in all columns, it would be skipped (no row)\n"
   ]
  },
  {
   "cell_type": "code",
   "execution_count": 21,
   "metadata": {
    "hidden": true
   },
   "outputs": [
    {
     "data": {
      "text/html": [
       "<div>\n",
       "<style scoped>\n",
       "    .dataframe tbody tr th:only-of-type {\n",
       "        vertical-align: middle;\n",
       "    }\n",
       "\n",
       "    .dataframe tbody tr th {\n",
       "        vertical-align: top;\n",
       "    }\n",
       "\n",
       "    .dataframe thead th {\n",
       "        text-align: right;\n",
       "    }\n",
       "</style>\n",
       "<table border=\"1\" class=\"dataframe\">\n",
       "  <thead>\n",
       "    <tr style=\"text-align: right;\">\n",
       "      <th></th>\n",
       "      <th>Date</th>\n",
       "      <th>People saw 0 cars (unique)</th>\n",
       "      <th>People saw +1 cars (unique)</th>\n",
       "      <th>Coverage Ratio (unique)</th>\n",
       "    </tr>\n",
       "  </thead>\n",
       "  <tbody>\n",
       "    <tr>\n",
       "      <th>0</th>\n",
       "      <td>2016-12-18 23</td>\n",
       "      <td>9</td>\n",
       "      <td>32</td>\n",
       "      <td>78</td>\n",
       "    </tr>\n",
       "    <tr>\n",
       "      <th>1</th>\n",
       "      <td>2016-12-18 22</td>\n",
       "      <td>29</td>\n",
       "      <td>64</td>\n",
       "      <td>69</td>\n",
       "    </tr>\n",
       "    <tr>\n",
       "      <th>2</th>\n",
       "      <td>2016-12-18 21</td>\n",
       "      <td>5</td>\n",
       "      <td>39</td>\n",
       "      <td>89</td>\n",
       "    </tr>\n",
       "    <tr>\n",
       "      <th>3</th>\n",
       "      <td>2016-12-18 20</td>\n",
       "      <td>13</td>\n",
       "      <td>48</td>\n",
       "      <td>79</td>\n",
       "    </tr>\n",
       "    <tr>\n",
       "      <th>4</th>\n",
       "      <td>2016-12-18 19</td>\n",
       "      <td>12</td>\n",
       "      <td>77</td>\n",
       "      <td>87</td>\n",
       "    </tr>\n",
       "  </tbody>\n",
       "</table>\n",
       "</div>"
      ],
      "text/plain": [
       "            Date  People saw 0 cars (unique)  People saw +1 cars (unique)  \\\n",
       "0  2016-12-18 23                           9                           32   \n",
       "1  2016-12-18 22                          29                           64   \n",
       "2  2016-12-18 21                           5                           39   \n",
       "3  2016-12-18 20                          13                           48   \n",
       "4  2016-12-18 19                          12                           77   \n",
       "\n",
       "   Coverage Ratio (unique)  \n",
       "0                       78  \n",
       "1                       69  \n",
       "2                       89  \n",
       "3                       79  \n",
       "4                       87  "
      ]
     },
     "execution_count": 21,
     "metadata": {},
     "output_type": "execute_result"
    }
   ],
   "source": [
    "data2.head()"
   ]
  },
  {
   "cell_type": "markdown",
   "metadata": {
    "hidden": true
   },
   "source": [
    "**merging dataframes**  \n",
    "we will use a full outer join, since we will analyse first every possible existing data"
   ]
  },
  {
   "cell_type": "code",
   "execution_count": 55,
   "metadata": {
    "hidden": true
   },
   "outputs": [],
   "source": [
    "data = pd.merge(data1, data2, on='Date', how='outer')"
   ]
  },
  {
   "cell_type": "markdown",
   "metadata": {},
   "source": [
    "# Questions"
   ]
  },
  {
   "cell_type": "markdown",
   "metadata": {},
   "source": [
    "## What is the supply to demand dynamic and whether they match?"
   ]
  },
  {
   "cell_type": "code",
   "execution_count": 98,
   "metadata": {},
   "outputs": [
    {
     "data": {
      "text/html": [
       "<div>\n",
       "<style scoped>\n",
       "    .dataframe tbody tr th:only-of-type {\n",
       "        vertical-align: middle;\n",
       "    }\n",
       "\n",
       "    .dataframe tbody tr th {\n",
       "        vertical-align: top;\n",
       "    }\n",
       "\n",
       "    .dataframe thead th {\n",
       "        text-align: right;\n",
       "    }\n",
       "</style>\n",
       "<table border=\"1\" class=\"dataframe\">\n",
       "  <thead>\n",
       "    <tr style=\"text-align: right;\">\n",
       "      <th></th>\n",
       "      <th>Date</th>\n",
       "      <th>Active drivers</th>\n",
       "      <th>Online (h)</th>\n",
       "      <th>Has booking (h)</th>\n",
       "      <th>Waiting for booking (h)</th>\n",
       "      <th>Busy (h)</th>\n",
       "      <th>Hours per active driver</th>\n",
       "      <th>Rides per online hour</th>\n",
       "      <th>Finished Rides</th>\n",
       "      <th>People saw 0 cars (unique)</th>\n",
       "      <th>People saw +1 cars (unique)</th>\n",
       "      <th>Coverage Ratio (unique)</th>\n",
       "    </tr>\n",
       "  </thead>\n",
       "  <tbody>\n",
       "    <tr>\n",
       "      <th>0</th>\n",
       "      <td>2016-12-18 23</td>\n",
       "      <td>52</td>\n",
       "      <td>18</td>\n",
       "      <td>6</td>\n",
       "      <td>11</td>\n",
       "      <td>11</td>\n",
       "      <td>0.3</td>\n",
       "      <td>0.67</td>\n",
       "      <td>12.0</td>\n",
       "      <td>9.0</td>\n",
       "      <td>32.0</td>\n",
       "      <td>78.0</td>\n",
       "    </tr>\n",
       "    <tr>\n",
       "      <th>1</th>\n",
       "      <td>2016-12-18 22</td>\n",
       "      <td>59</td>\n",
       "      <td>20</td>\n",
       "      <td>11</td>\n",
       "      <td>9</td>\n",
       "      <td>12</td>\n",
       "      <td>0.3</td>\n",
       "      <td>1.40</td>\n",
       "      <td>28.0</td>\n",
       "      <td>29.0</td>\n",
       "      <td>64.0</td>\n",
       "      <td>69.0</td>\n",
       "    </tr>\n",
       "    <tr>\n",
       "      <th>2</th>\n",
       "      <td>2016-12-18 21</td>\n",
       "      <td>72</td>\n",
       "      <td>25</td>\n",
       "      <td>7</td>\n",
       "      <td>18</td>\n",
       "      <td>15</td>\n",
       "      <td>0.3</td>\n",
       "      <td>0.64</td>\n",
       "      <td>16.0</td>\n",
       "      <td>5.0</td>\n",
       "      <td>39.0</td>\n",
       "      <td>89.0</td>\n",
       "    </tr>\n",
       "    <tr>\n",
       "      <th>3</th>\n",
       "      <td>2016-12-18 20</td>\n",
       "      <td>86</td>\n",
       "      <td>29</td>\n",
       "      <td>7</td>\n",
       "      <td>23</td>\n",
       "      <td>15</td>\n",
       "      <td>0.3</td>\n",
       "      <td>0.52</td>\n",
       "      <td>15.0</td>\n",
       "      <td>13.0</td>\n",
       "      <td>48.0</td>\n",
       "      <td>79.0</td>\n",
       "    </tr>\n",
       "    <tr>\n",
       "      <th>4</th>\n",
       "      <td>2016-12-18 19</td>\n",
       "      <td>82</td>\n",
       "      <td>31</td>\n",
       "      <td>14</td>\n",
       "      <td>17</td>\n",
       "      <td>19</td>\n",
       "      <td>0.4</td>\n",
       "      <td>1.16</td>\n",
       "      <td>36.0</td>\n",
       "      <td>12.0</td>\n",
       "      <td>77.0</td>\n",
       "      <td>87.0</td>\n",
       "    </tr>\n",
       "    <tr>\n",
       "      <th>...</th>\n",
       "      <td>...</td>\n",
       "      <td>...</td>\n",
       "      <td>...</td>\n",
       "      <td>...</td>\n",
       "      <td>...</td>\n",
       "      <td>...</td>\n",
       "      <td>...</td>\n",
       "      <td>...</td>\n",
       "      <td>...</td>\n",
       "      <td>...</td>\n",
       "      <td>...</td>\n",
       "      <td>...</td>\n",
       "    </tr>\n",
       "    <tr>\n",
       "      <th>835</th>\n",
       "      <td>2016-11-14 04</td>\n",
       "      <td>15</td>\n",
       "      <td>6</td>\n",
       "      <td>0</td>\n",
       "      <td>6</td>\n",
       "      <td>6</td>\n",
       "      <td>0.4</td>\n",
       "      <td>0.00</td>\n",
       "      <td>NaN</td>\n",
       "      <td>4.0</td>\n",
       "      <td>4.0</td>\n",
       "      <td>50.0</td>\n",
       "    </tr>\n",
       "    <tr>\n",
       "      <th>836</th>\n",
       "      <td>2016-11-14 03</td>\n",
       "      <td>18</td>\n",
       "      <td>7</td>\n",
       "      <td>0</td>\n",
       "      <td>7</td>\n",
       "      <td>7</td>\n",
       "      <td>0.4</td>\n",
       "      <td>0.00</td>\n",
       "      <td>NaN</td>\n",
       "      <td>1.0</td>\n",
       "      <td>2.0</td>\n",
       "      <td>67.0</td>\n",
       "    </tr>\n",
       "    <tr>\n",
       "      <th>837</th>\n",
       "      <td>2016-11-14 02</td>\n",
       "      <td>21</td>\n",
       "      <td>7</td>\n",
       "      <td>0</td>\n",
       "      <td>7</td>\n",
       "      <td>9</td>\n",
       "      <td>0.3</td>\n",
       "      <td>0.14</td>\n",
       "      <td>1.0</td>\n",
       "      <td>3.0</td>\n",
       "      <td>6.0</td>\n",
       "      <td>67.0</td>\n",
       "    </tr>\n",
       "    <tr>\n",
       "      <th>838</th>\n",
       "      <td>2016-11-14 01</td>\n",
       "      <td>29</td>\n",
       "      <td>9</td>\n",
       "      <td>1</td>\n",
       "      <td>8</td>\n",
       "      <td>11</td>\n",
       "      <td>0.3</td>\n",
       "      <td>0.22</td>\n",
       "      <td>2.0</td>\n",
       "      <td>8.0</td>\n",
       "      <td>8.0</td>\n",
       "      <td>50.0</td>\n",
       "    </tr>\n",
       "    <tr>\n",
       "      <th>839</th>\n",
       "      <td>2016-11-14 00</td>\n",
       "      <td>38</td>\n",
       "      <td>14</td>\n",
       "      <td>3</td>\n",
       "      <td>11</td>\n",
       "      <td>12</td>\n",
       "      <td>0.4</td>\n",
       "      <td>0.43</td>\n",
       "      <td>6.0</td>\n",
       "      <td>9.0</td>\n",
       "      <td>15.0</td>\n",
       "      <td>63.0</td>\n",
       "    </tr>\n",
       "  </tbody>\n",
       "</table>\n",
       "<p>840 rows × 12 columns</p>\n",
       "</div>"
      ],
      "text/plain": [
       "              Date  Active drivers  Online (h)  Has booking (h)  \\\n",
       "0    2016-12-18 23              52          18                6   \n",
       "1    2016-12-18 22              59          20               11   \n",
       "2    2016-12-18 21              72          25                7   \n",
       "3    2016-12-18 20              86          29                7   \n",
       "4    2016-12-18 19              82          31               14   \n",
       "..             ...             ...         ...              ...   \n",
       "835  2016-11-14 04              15           6                0   \n",
       "836  2016-11-14 03              18           7                0   \n",
       "837  2016-11-14 02              21           7                0   \n",
       "838  2016-11-14 01              29           9                1   \n",
       "839  2016-11-14 00              38          14                3   \n",
       "\n",
       "     Waiting for booking (h)  Busy (h)  Hours per active driver  \\\n",
       "0                         11        11                      0.3   \n",
       "1                          9        12                      0.3   \n",
       "2                         18        15                      0.3   \n",
       "3                         23        15                      0.3   \n",
       "4                         17        19                      0.4   \n",
       "..                       ...       ...                      ...   \n",
       "835                        6         6                      0.4   \n",
       "836                        7         7                      0.4   \n",
       "837                        7         9                      0.3   \n",
       "838                        8        11                      0.3   \n",
       "839                       11        12                      0.4   \n",
       "\n",
       "     Rides per online hour  Finished Rides  People saw 0 cars (unique)  \\\n",
       "0                     0.67            12.0                         9.0   \n",
       "1                     1.40            28.0                        29.0   \n",
       "2                     0.64            16.0                         5.0   \n",
       "3                     0.52            15.0                        13.0   \n",
       "4                     1.16            36.0                        12.0   \n",
       "..                     ...             ...                         ...   \n",
       "835                   0.00             NaN                         4.0   \n",
       "836                   0.00             NaN                         1.0   \n",
       "837                   0.14             1.0                         3.0   \n",
       "838                   0.22             2.0                         8.0   \n",
       "839                   0.43             6.0                         9.0   \n",
       "\n",
       "     People saw +1 cars (unique)  Coverage Ratio (unique)  \n",
       "0                           32.0                     78.0  \n",
       "1                           64.0                     69.0  \n",
       "2                           39.0                     89.0  \n",
       "3                           48.0                     79.0  \n",
       "4                           77.0                     87.0  \n",
       "..                           ...                      ...  \n",
       "835                          4.0                     50.0  \n",
       "836                          2.0                     67.0  \n",
       "837                          6.0                     67.0  \n",
       "838                          8.0                     50.0  \n",
       "839                         15.0                     63.0  \n",
       "\n",
       "[840 rows x 12 columns]"
      ]
     },
     "execution_count": 98,
     "metadata": {},
     "output_type": "execute_result"
    }
   ],
   "source": [
    "data"
   ]
  },
  {
   "cell_type": "markdown",
   "metadata": {},
   "source": [
    "## Where are the hours of oversupply? Can we shift some of them to undersupply hours?"
   ]
  },
  {
   "cell_type": "code",
   "execution_count": null,
   "metadata": {},
   "outputs": [],
   "source": []
  }
 ],
 "metadata": {
  "kernelspec": {
   "display_name": "Python 3",
   "language": "python",
   "name": "python3"
  },
  "language_info": {
   "codemirror_mode": {
    "name": "ipython",
    "version": 3
   },
   "file_extension": ".py",
   "mimetype": "text/x-python",
   "name": "python",
   "nbconvert_exporter": "python",
   "pygments_lexer": "ipython3",
   "version": "3.8.1"
  },
  "toc": {
   "base_numbering": 1,
   "nav_menu": {},
   "number_sections": true,
   "sideBar": true,
   "skip_h1_title": false,
   "title_cell": "Table of Contents",
   "title_sidebar": "Contents",
   "toc_cell": false,
   "toc_position": {},
   "toc_section_display": true,
   "toc_window_display": false
  },
  "varInspector": {
   "cols": {
    "lenName": 16,
    "lenType": 16,
    "lenVar": 40
   },
   "kernels_config": {
    "python": {
     "delete_cmd_postfix": "",
     "delete_cmd_prefix": "del ",
     "library": "var_list.py",
     "varRefreshCmd": "print(var_dic_list())"
    },
    "r": {
     "delete_cmd_postfix": ") ",
     "delete_cmd_prefix": "rm(",
     "library": "var_list.r",
     "varRefreshCmd": "cat(var_dic_list()) "
    }
   },
   "types_to_exclude": [
    "module",
    "function",
    "builtin_function_or_method",
    "instance",
    "_Feature"
   ],
   "window_display": false
  }
 },
 "nbformat": 4,
 "nbformat_minor": 4
}
