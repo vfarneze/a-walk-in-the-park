{
 "cells": [
  {
   "cell_type": "markdown",
   "metadata": {},
   "source": [
    "# Creating a Table with PostgreSQL"
   ]
  },
  {
   "cell_type": "markdown",
   "metadata": {},
   "source": [
    "**import enviroment variables**"
   ]
  },
  {
   "cell_type": "code",
   "execution_count": 76,
   "metadata": {},
   "outputs": [],
   "source": [
    "from dotenv import load_dotenv\n",
    "import os\n",
    "\n",
    "#load .env from its path\n",
    "load_dotenv('ignored-files/.env')\n",
    "\n",
    "#load .env variables\n",
    "user = os.getenv('POSTGRESQL_USER')\n",
    "password = os.getenv('POSTGRESQL_PASSWORD')\n",
    "host = os.getenv('POSTGRESQL_HOST')\n",
    "db = os.getenv('POSTGRESQL_DB')"
   ]
  },
  {
   "cell_type": "markdown",
   "metadata": {},
   "source": [
    "## **with sqlalchemy**"
   ]
  },
  {
   "cell_type": "code",
   "execution_count": 77,
   "metadata": {},
   "outputs": [],
   "source": [
    "import sqlalchemy as sqla\n",
    "conn_text = 'postgresql+psycopg2://{}:{}@{}/{}'.format(user,password,host,db)\n",
    "engine = sqla.create_engine(conn_text)"
   ]
  },
  {
   "cell_type": "markdown",
   "metadata": {},
   "source": [
    "## **with psycopg2**"
   ]
  },
  {
   "cell_type": "code",
   "execution_count": 78,
   "metadata": {},
   "outputs": [],
   "source": [
    "import psycopg2 as p2\n",
    "conn = p2.connect('host=' + host + ' dbname=' + db + ' user=' + user + ' password=' + password)\n",
    "\n",
    "# Use the connection to get a cursor that can be used to execute queries.\n",
    "cur = conn.cursor()\n",
    "\n",
    "# Set automatic commit to be true so that each action is committed without having to call conn.commit() after each command.\n",
    "conn.set_session(autocommit=True)"
   ]
  },
  {
   "cell_type": "code",
   "execution_count": 79,
   "metadata": {},
   "outputs": [],
   "source": [
    "## Add the database name within the CREATE DATABASE statement. You can choose your own db name.\n",
    "cur.execute(\"create database example\")"
   ]
  },
  {
   "cell_type": "code",
   "execution_count": 80,
   "metadata": {},
   "outputs": [],
   "source": [
    "## Create a Song Library that contains a list of songs, including the song name, artist name, year, album it was from, and if it was a single. \n",
    "cur.execute(\"CREATE TABLE IF NOT EXISTS music_library_1(song_title varchar, artist_name varchar, year int, album_name varchar, single Boolean);\")"
   ]
  },
  {
   "cell_type": "markdown",
   "metadata": {},
   "source": [
    "**example of inserting values in a table:**  \n",
    "`First Row:  \"Across The Universe\", \"The Beatles\", \"1970\", \"False\", \"Let It Be\"`\n",
    "\n",
    "`Second Row: \"The Beatles\", \"Think For Yourself\", \"False\", \"1965\", \"Rubber Soul\"`"
   ]
  },
  {
   "cell_type": "code",
   "execution_count": 81,
   "metadata": {},
   "outputs": [],
   "source": [
    "# Finish the INSERT INTO statement with the correct arguments\n",
    "\n",
    "columns = '(song_title, artist_name, year, album_name, single)'\n",
    "\n",
    "cur.execute(f\"INSERT INTO music_library_1 {columns} VALUES (%s, %s, %s, %s, %s)\",\n",
    "            (\"The Beatles\", \"Across The Universe\", 1970, \"Across The Universe\", False))\n",
    "\n",
    "cur.execute(f\"INSERT INTO music_library_1 {columns} VALUES (%s, %s, %s, %s, %s)\",\n",
    "            (\"Rubber Soul\", \"The Beatles\", 1965, \"Think For Yourself\", False))"
   ]
  },
  {
   "cell_type": "code",
   "execution_count": 82,
   "metadata": {},
   "outputs": [
    {
     "name": "stdout",
     "output_type": "stream",
     "text": [
      "('The Beatles', 'Across The Universe', 1970, 'Across The Universe', False)\n",
      "('Rubber Soul', 'The Beatles', 1965, 'Think For Yourself', False)\n",
      "('The Beatles', 'Across The Universe', 1970, 'Across The Universe', False)\n",
      "('Rubber Soul', 'The Beatles', 1965, 'Think For Yourself', False)\n",
      "('The Beatles', 'Across The Universe', 1970, 'Across The Universe', False)\n",
      "('Rubber Soul', 'The Beatles', 1965, 'Think For Yourself', False)\n"
     ]
    }
   ],
   "source": [
    "# Validate your data was inserted into the table. \n",
    "cur.execute(\"SELECT * FROM music_library_1;\")\n",
    "\n",
    "row = cur.fetchone()\n",
    "while row:\n",
    "    print(row)\n",
    "    row = cur.fetchone()"
   ]
  },
  {
   "cell_type": "code",
   "execution_count": 83,
   "metadata": {},
   "outputs": [],
   "source": [
    "# And finally delete the database example, close your cursor and connection. \n",
    "cur.execute(\"DROP database example\")\n",
    "cur.close()\n",
    "conn.close()"
   ]
  }
 ],
 "metadata": {
  "kernelspec": {
   "display_name": "Python 3",
   "language": "python",
   "name": "python3"
  },
  "language_info": {
   "codemirror_mode": {
    "name": "ipython",
    "version": 3
   },
   "file_extension": ".py",
   "mimetype": "text/x-python",
   "name": "python",
   "nbconvert_exporter": "python",
   "pygments_lexer": "ipython3",
   "version": "3.8.1"
  },
  "toc": {
   "base_numbering": 1,
   "nav_menu": {},
   "number_sections": true,
   "sideBar": true,
   "skip_h1_title": false,
   "title_cell": "Table of Contents",
   "title_sidebar": "Contents",
   "toc_cell": false,
   "toc_position": {},
   "toc_section_display": true,
   "toc_window_display": false
  },
  "varInspector": {
   "cols": {
    "lenName": 16,
    "lenType": 16,
    "lenVar": 40
   },
   "kernels_config": {
    "python": {
     "delete_cmd_postfix": "",
     "delete_cmd_prefix": "del ",
     "library": "var_list.py",
     "varRefreshCmd": "print(var_dic_list())"
    },
    "r": {
     "delete_cmd_postfix": ") ",
     "delete_cmd_prefix": "rm(",
     "library": "var_list.r",
     "varRefreshCmd": "cat(var_dic_list()) "
    }
   },
   "types_to_exclude": [
    "module",
    "function",
    "builtin_function_or_method",
    "instance",
    "_Feature"
   ],
   "window_display": false
  }
 },
 "nbformat": 4,
 "nbformat_minor": 2
}
